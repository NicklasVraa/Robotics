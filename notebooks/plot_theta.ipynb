{
 "cells": [
  {
   "cell_type": "markdown",
   "metadata": {},
   "source": []
  },
  {
   "cell_type": "code",
   "execution_count": 13,
   "metadata": {},
   "outputs": [],
   "source": [
    "import rosbag\n",
    "from bagpy import bagreader\n",
    "import pandas as pd\n",
    "import os"
   ]
  },
  {
   "cell_type": "code",
   "execution_count": 27,
   "metadata": {},
   "outputs": [
    {
     "name": "stdout",
     "output_type": "stream",
     "text": [
      "/\n",
      "/\n"
     ]
    }
   ],
   "source": [
    "abspath = os.path.abspath('')\n",
    "print(abspath)\n",
    "dname = os.path.dirname(abspath)\n",
    "os.chdir(dname)\n",
    "print(os.getcwd())"
   ]
  },
  {
   "cell_type": "code",
   "execution_count": 18,
   "metadata": {},
   "outputs": [
    {
     "ename": "FileNotFoundError",
     "evalue": "[Errno 2] No such file or directory: 'husky_controllers/bags/theta.bag'",
     "output_type": "error",
     "traceback": [
      "\u001b[0;31m---------------------------------------------------------------------------\u001b[0m",
      "\u001b[0;31mFileNotFoundError\u001b[0m                         Traceback (most recent call last)",
      "\u001b[1;32m/home/felsager/Workspaces/auro_ws/src/husky_controllers/notebooks/plot_theta.ipynb Cell 4'\u001b[0m in \u001b[0;36m<cell line: 1>\u001b[0;34m()\u001b[0m\n\u001b[0;32m----> <a href='vscode-notebook-cell:/home/felsager/Workspaces/auro_ws/src/husky_controllers/notebooks/plot_theta.ipynb#ch0000002?line=0'>1</a>\u001b[0m bag \u001b[39m=\u001b[39m bagreader(\u001b[39m'\u001b[39m\u001b[39mhusky_controllers/bags/theta.bag\u001b[39m\u001b[39m'\u001b[39m)\n",
      "File \u001b[0;32m~/.local/lib/python3.8/site-packages/bagpy/bagreader.py:202\u001b[0m, in \u001b[0;36mbagreader.__init__\u001b[0;34m(self, bagfile, verbose, tmp)\u001b[0m\n\u001b[1;32m    <a href='file:///~/.local/lib/python3.8/site-packages/bagpy/bagreader.py?line=198'>199</a>\u001b[0m     \u001b[39mself\u001b[39m\u001b[39m.\u001b[39mfilename \u001b[39m=\u001b[39m bagfile\n\u001b[1;32m    <a href='file:///~/.local/lib/python3.8/site-packages/bagpy/bagreader.py?line=199'>200</a>\u001b[0m     \u001b[39mself\u001b[39m\u001b[39m.\u001b[39mdir \u001b[39m=\u001b[39m \u001b[39m'\u001b[39m\u001b[39m./\u001b[39m\u001b[39m'\u001b[39m\n\u001b[0;32m--> <a href='file:///~/.local/lib/python3.8/site-packages/bagpy/bagreader.py?line=201'>202</a>\u001b[0m \u001b[39mself\u001b[39m\u001b[39m.\u001b[39mreader \u001b[39m=\u001b[39m rosbag\u001b[39m.\u001b[39;49mBag(\u001b[39mself\u001b[39;49m\u001b[39m.\u001b[39;49mbagfile)\n\u001b[1;32m    <a href='file:///~/.local/lib/python3.8/site-packages/bagpy/bagreader.py?line=203'>204</a>\u001b[0m info \u001b[39m=\u001b[39m \u001b[39mself\u001b[39m\u001b[39m.\u001b[39mreader\u001b[39m.\u001b[39mget_type_and_topic_info() \n\u001b[1;32m    <a href='file:///~/.local/lib/python3.8/site-packages/bagpy/bagreader.py?line=204'>205</a>\u001b[0m \u001b[39mself\u001b[39m\u001b[39m.\u001b[39mtopic_tuple \u001b[39m=\u001b[39m info\u001b[39m.\u001b[39mtopics\u001b[39m.\u001b[39mvalues()\n",
      "File \u001b[0;32m/opt/ros/noetic/lib/python3/dist-packages/rosbag/bag.py:467\u001b[0m, in \u001b[0;36mBag.__init__\u001b[0;34m(self, f, mode, compression, chunk_threshold, allow_unindexed, options, skip_index)\u001b[0m\n\u001b[1;32m    <a href='file:///opt/ros/noetic/lib/python3/dist-packages/rosbag/bag.py?line=462'>463</a>\u001b[0m \u001b[39mself\u001b[39m\u001b[39m.\u001b[39m_curr_compression \u001b[39m=\u001b[39m Compression\u001b[39m.\u001b[39mNONE\n\u001b[1;32m    <a href='file:///opt/ros/noetic/lib/python3/dist-packages/rosbag/bag.py?line=464'>465</a>\u001b[0m \u001b[39mself\u001b[39m\u001b[39m.\u001b[39m_encryptor \u001b[39m=\u001b[39m _ROSBagNoEncryptor()\n\u001b[0;32m--> <a href='file:///opt/ros/noetic/lib/python3/dist-packages/rosbag/bag.py?line=466'>467</a>\u001b[0m \u001b[39mself\u001b[39;49m\u001b[39m.\u001b[39;49m_open(f, mode, allow_unindexed)\n\u001b[1;32m    <a href='file:///opt/ros/noetic/lib/python3/dist-packages/rosbag/bag.py?line=468'>469</a>\u001b[0m \u001b[39mself\u001b[39m\u001b[39m.\u001b[39m_output_file \u001b[39m=\u001b[39m \u001b[39mself\u001b[39m\u001b[39m.\u001b[39m_file\n",
      "File \u001b[0;32m/opt/ros/noetic/lib/python3/dist-packages/rosbag/bag.py:1428\u001b[0m, in \u001b[0;36mBag._open\u001b[0;34m(self, f, mode, allow_unindexed)\u001b[0m\n\u001b[1;32m   <a href='file:///opt/ros/noetic/lib/python3/dist-packages/rosbag/bag.py?line=1424'>1425</a>\u001b[0m     \u001b[39mraise\u001b[39;00m \u001b[39mValueError\u001b[39;00m(\u001b[39m'\u001b[39m\u001b[39mfilename (or stream) is invalid\u001b[39m\u001b[39m'\u001b[39m)\n\u001b[1;32m   <a href='file:///opt/ros/noetic/lib/python3/dist-packages/rosbag/bag.py?line=1426'>1427</a>\u001b[0m \u001b[39mtry\u001b[39;00m:\n\u001b[0;32m-> <a href='file:///opt/ros/noetic/lib/python3/dist-packages/rosbag/bag.py?line=1427'>1428</a>\u001b[0m     \u001b[39mif\u001b[39;00m   mode \u001b[39m==\u001b[39m \u001b[39m'\u001b[39m\u001b[39mr\u001b[39m\u001b[39m'\u001b[39m: \u001b[39mself\u001b[39;49m\u001b[39m.\u001b[39;49m_open_read(f, allow_unindexed)\n\u001b[1;32m   <a href='file:///opt/ros/noetic/lib/python3/dist-packages/rosbag/bag.py?line=1428'>1429</a>\u001b[0m     \u001b[39melif\u001b[39;00m mode \u001b[39m==\u001b[39m \u001b[39m'\u001b[39m\u001b[39mw\u001b[39m\u001b[39m'\u001b[39m: \u001b[39mself\u001b[39m\u001b[39m.\u001b[39m_open_write(f)\n\u001b[1;32m   <a href='file:///opt/ros/noetic/lib/python3/dist-packages/rosbag/bag.py?line=1429'>1430</a>\u001b[0m     \u001b[39melif\u001b[39;00m mode \u001b[39m==\u001b[39m \u001b[39m'\u001b[39m\u001b[39ma\u001b[39m\u001b[39m'\u001b[39m: \u001b[39mself\u001b[39m\u001b[39m.\u001b[39m_open_append(f, allow_unindexed)\n",
      "File \u001b[0;32m/opt/ros/noetic/lib/python3/dist-packages/rosbag/bag.py:1450\u001b[0m, in \u001b[0;36mBag._open_read\u001b[0;34m(self, f, allow_unindexed)\u001b[0m\n\u001b[1;32m   <a href='file:///opt/ros/noetic/lib/python3/dist-packages/rosbag/bag.py?line=1447'>1448</a>\u001b[0m     \u001b[39mself\u001b[39m\u001b[39m.\u001b[39m_filename \u001b[39m=\u001b[39m \u001b[39mNone\u001b[39;00m\n\u001b[1;32m   <a href='file:///opt/ros/noetic/lib/python3/dist-packages/rosbag/bag.py?line=1448'>1449</a>\u001b[0m \u001b[39melse\u001b[39;00m:\n\u001b[0;32m-> <a href='file:///opt/ros/noetic/lib/python3/dist-packages/rosbag/bag.py?line=1449'>1450</a>\u001b[0m     \u001b[39mself\u001b[39m\u001b[39m.\u001b[39m_file     \u001b[39m=\u001b[39m \u001b[39mopen\u001b[39;49m(f, \u001b[39m'\u001b[39;49m\u001b[39mrb\u001b[39;49m\u001b[39m'\u001b[39;49m)\n\u001b[1;32m   <a href='file:///opt/ros/noetic/lib/python3/dist-packages/rosbag/bag.py?line=1450'>1451</a>\u001b[0m     \u001b[39mself\u001b[39m\u001b[39m.\u001b[39m_filename \u001b[39m=\u001b[39m f        \n\u001b[1;32m   <a href='file:///opt/ros/noetic/lib/python3/dist-packages/rosbag/bag.py?line=1452'>1453</a>\u001b[0m \u001b[39mself\u001b[39m\u001b[39m.\u001b[39m_mode \u001b[39m=\u001b[39m \u001b[39m'\u001b[39m\u001b[39mr\u001b[39m\u001b[39m'\u001b[39m\n",
      "\u001b[0;31mFileNotFoundError\u001b[0m: [Errno 2] No such file or directory: 'husky_controllers/bags/theta.bag'"
     ]
    }
   ],
   "source": [
    "bag = bagreader('husky_controllers/bags/theta.bag')"
   ]
  }
 ],
 "metadata": {
  "interpreter": {
   "hash": "e7370f93d1d0cde622a1f8e1c04877d8463912d04d973331ad4851f04de6915a"
  },
  "kernelspec": {
   "display_name": "Python 3.8.10 64-bit",
   "language": "python",
   "name": "python3"
  },
  "language_info": {
   "codemirror_mode": {
    "name": "ipython",
    "version": 3
   },
   "file_extension": ".py",
   "mimetype": "text/x-python",
   "name": "python",
   "nbconvert_exporter": "python",
   "pygments_lexer": "ipython3",
   "version": "3.8.10"
  },
  "orig_nbformat": 4
 },
 "nbformat": 4,
 "nbformat_minor": 2
}
